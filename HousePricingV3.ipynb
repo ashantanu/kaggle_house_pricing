{
 "cells": [
  {
   "cell_type": "code",
   "execution_count": 160,
   "metadata": {
    "scrolled": true
   },
   "outputs": [],
   "source": [
    "import torch\n",
    "import torchvision\n",
    "import torch.nn as nn\n",
    "import torch.nn.functional as F\n",
    "\n",
    "import pandas as pd\n",
    "import numpy as np\n",
    "import math\n",
    "from sklearn.preprocessing import OneHotEncoder\n",
    "from sklearn.preprocessing import StandardScaler\n",
    "from sklearn.preprocessing import scale\n",
    "from sklearn.preprocessing import normalize\n",
    "import statsmodels.api as sm\n",
    "from sklearn import preprocessing\n",
    "import seaborn as sns\n",
    "from sklearn.model_selection import train_test_split \n",
    "from sklearn.linear_model import LinearRegression, Lasso\n",
    "from sklearn.ensemble import AdaBoostRegressor\n",
    "from sklearn.ensemble import RandomForestRegressor\n",
    "from sklearn import linear_model\n",
    "from sklearn import metrics\n",
    "import matplotlib.pyplot as plt  \n",
    "\n",
    "from numpy import array\n",
    "from numpy import argmax\n",
    "from sklearn.preprocessing import LabelEncoder\n",
    "from sklearn.preprocessing import OneHotEncoder\n",
    "from pandas_profiling import ProfileReport\n",
    "\n",
    "from copy import copy, deepcopy\n",
    "from scipy.stats import boxcox\n",
    "from scipy.special import inv_boxcox\n",
    "from sklearn.feature_selection import SelectFromModel\n",
    "import xgboost as xgb \n",
    "\n",
    "\n"
   ]
  },
  {
   "cell_type": "code",
   "execution_count": 161,
   "metadata": {
    "scrolled": false
   },
   "outputs": [
    {
     "name": "stdout",
     "output_type": "stream",
     "text": [
      "training data size =  (1456, 131)\n",
      "test data size =  (1459, 131)\n"
     ]
    }
   ],
   "source": [
    "train_orig = pd.read_csv( \"train_cleaned.csv\" )\n",
    "train_orig=pd.DataFrame(train_orig)\n",
    "Y_train=deepcopy(train_orig[\"SalePrice\"])\n",
    "train=deepcopy(train_orig.drop(['SalePrice'],axis=1))\n",
    "print(\"training data size = \", train.shape)\n",
    "test_orig = pd.read_csv( \"test_cleaned.csv\" )\n",
    "test_orig=pd.DataFrame(test_orig)\n",
    "print(\"test data size = \", test_orig.shape)"
   ]
  },
  {
   "cell_type": "markdown",
   "metadata": {},
   "source": [
    "### processing"
   ]
  },
  {
   "cell_type": "code",
   "execution_count": 162,
   "metadata": {},
   "outputs": [],
   "source": [
    "#encode\n",
    "def encodeCat(categoricalData):\n",
    "    encodedCategoricalData=pd.get_dummies(deepcopy(categoricalData),columns=categoricalData.columns)\n",
    "    return encodedCategoricalData"
   ]
  },
  {
   "cell_type": "code",
   "execution_count": 163,
   "metadata": {},
   "outputs": [],
   "source": [
    "def boxcoxTransform(data):\n",
    "    skew=data.skew(axis=0).sort_values(ascending=False)\n",
    "    skewdic=dict(skew)\n",
    "    fig,ax=plt.subplots(1,1,figsize=(20,6))\n",
    "    sns.barplot(list(skewdic.keys()),list(skewdic.values()))\n",
    "    skew=dict(skew[abs(skew)>0.5])\n",
    "    for col in skew.keys():\n",
    "        _,opt = boxcox(data[col]+1)\n",
    "        data[col]=deepcopy(boxcox(data[col]+1,lmbda=opt))\n",
    "    return data"
   ]
  },
  {
   "cell_type": "code",
   "execution_count": 164,
   "metadata": {},
   "outputs": [],
   "source": [
    "def processData(train):\n",
    "    categoricalData=deepcopy(train.select_dtypes(include='object'))    \n",
    "    nonCategoricalData=deepcopy(train.select_dtypes(exclude='object'))\n",
    "    encodedCategoricalData=encodeCat(deepcopy(categoricalData))\n",
    "    #normalized=normalize(nonCategoricalData, norm='l2', axis=0, copy=True, return_norm=False)\n",
    "    #nonCategoricalData=pd.DataFrame(normalized,index=nonCategoricalData.index,columns=nonCategoricalData.columns)\n",
    "    #nonCategoricalData=boxcoxTransform(deepcopy(nonCategoricalData))\n",
    "    nonCategoricalData=pd.concat([nonCategoricalData,encodedCategoricalData],axis=1)\n",
    "    \n",
    "    return nonCategoricalData"
   ]
  },
  {
   "cell_type": "code",
   "execution_count": 165,
   "metadata": {},
   "outputs": [],
   "source": [
    "def sameSchema(X_train,X_test_orig):    \n",
    "    #make sure the columns are the same and in same order\n",
    "    for col in X_train.columns:\n",
    "        if col not in X_test_orig.columns:\n",
    "            X_test_orig[col]=np.zeros(X_test_orig.shape[0])\n",
    "    X_test_orig=X_test_orig[X_train.columns]\n",
    "    return X_test_orig"
   ]
  },
  {
   "cell_type": "code",
   "execution_count": 166,
   "metadata": {},
   "outputs": [],
   "source": [
    "def remove_corr(data):\n",
    "    corr_matrix = data.corr().abs()\n",
    "    #sns.heatmap(corr_matrix,vmin=-1, vmax=1, center= 0)\n",
    "    upper = corr_matrix.where(np.triu(np.ones(corr_matrix.shape), k=1).astype(np.bool))\n",
    "    lower = corr_matrix.where(np.tril(np.ones(corr_matrix.shape), k=-1).astype(np.bool))\n",
    "\n",
    "    # Find index of feature columns with correlation greater than 0.95\n",
    "    to_dropu = [column for column in upper.columns if any(abs(upper[column]) > 0.98)]\n",
    "    to_dropl = [column for column in upper.columns if any(abs(lower[column]) > 0.98)]\n",
    "\n",
    "    drop=to_dropu\n",
    "    if(len(to_dropl)<len(to_dropu)):\n",
    "        drop=to_dropl\n",
    "\n",
    "    print(drop)\n",
    "\n",
    "    #drop high corr columns\n",
    "    data=data.drop(drop,axis=1)\n",
    "    return data"
   ]
  },
  {
   "cell_type": "code",
   "execution_count": 167,
   "metadata": {},
   "outputs": [],
   "source": [
    "#combine both data sets, process and then split again\n",
    "train_size=len(train)\n",
    "data=deepcopy(train)\n",
    "data=data.append(test_orig,sort=False)\n",
    "processed = processData(deepcopy(data))\n",
    "#processed=remove_corr(deepcopy(processed))\n",
    "X_train_processed=deepcopy(processed[:train_size])\n",
    "test_orig_processed=deepcopy(processed[train_size:len(data)])\n",
    "test_orig_processed = sameSchema(deepcopy(X_train_processed),deepcopy(test_orig_processed))"
   ]
  },
  {
   "cell_type": "code",
   "execution_count": 168,
   "metadata": {},
   "outputs": [],
   "source": [
    "#trasnform Y\n",
    "Y_train_processed=deepcopy(Y_train)\n",
    "#Y_train_processed = np.log(Y_train)"
   ]
  },
  {
   "cell_type": "markdown",
   "metadata": {},
   "source": [
    "### Select Imp Features"
   ]
  },
  {
   "cell_type": "code",
   "execution_count": 169,
   "metadata": {},
   "outputs": [],
   "source": [
    "def featureSelector(X,Y,test,N=239):\n",
    "    model=xgb.XGBRegressor()\n",
    "    #model=BayesianRidge()\n",
    "    model.fit(X,np.log(Y))\n",
    "    imp = dict(zip(X.columns,model.feature_importances_))\n",
    "    #imp = dict(zip(X_train_.columns,model.coef_))\n",
    "\n",
    "    impsorted={k:v for k,v in sorted(imp.items(),key=lambda item:item[1],reverse=True)[:N]}\n",
    "    newcols=impsorted.keys()\n",
    "    return X[newcols],test[newcols]"
   ]
  },
  {
   "cell_type": "code",
   "execution_count": 170,
   "metadata": {},
   "outputs": [],
   "source": [
    "X_train_processed_=deepcopy(X_train_processed)\n",
    "test_orig_processed_=deepcopy(test_orig_processed)\n",
    "X_train_processed,test_orig_processed=featureSelector(deepcopy(X_train_processed),deepcopy(Y_train_processed),\\\n",
    "                                                      deepcopy(test_orig_processed))"
   ]
  },
  {
   "cell_type": "markdown",
   "metadata": {},
   "source": [
    "### Split into test and train"
   ]
  },
  {
   "cell_type": "code",
   "execution_count": 171,
   "metadata": {},
   "outputs": [
    {
     "name": "stdout",
     "output_type": "stream",
     "text": [
      "X_train_ shape =  (1164, 239)\n",
      "Y_train_ shape =  (1164,)\n",
      "X_test_ shape =  (292, 239)\n"
     ]
    }
   ],
   "source": [
    "#split into test and train\n",
    "X_train_, X_test_, Y_train_, Y_test_ = train_test_split(deepcopy(X_train_processed),\\\n",
    "                                                        deepcopy(Y_train_processed),\\\n",
    "                                                        test_size=0.2, random_state=0)\n",
    "print(\"X_train_ shape = \", X_train_.shape)\n",
    "print(\"Y_train_ shape = \", Y_train_.shape)\n",
    "print(\"X_test_ shape = \", X_test_.shape)"
   ]
  },
  {
   "cell_type": "code",
   "execution_count": 172,
   "metadata": {
    "scrolled": true
   },
   "outputs": [
    {
     "data": {
      "text/plain": [
       "'\\n#remove zero columns from train and the respective columns from test\\nX_train_ = deepcopy(X_train_.loc[:, (X_train_ != 0).any(axis=0)])\\nprint(\"X_train shape after removing zeros = \", X_train_.shape)\\n#remove these columns from other datasets\\nX_test_= deepcopy(X_test_[X_train_.columns])\\ntest_orig_processed=deepcopy(test_orig_processed[X_train_.columns])\\n\\nprint(\"X_train_ shape after removing zeros = \", X_train_.shape)\\nprint(\"X_test_ shape after removing zeros = \", X_test_.shape)\\nprint(\"test_orig_processed shape after removing zeros = \", test_orig_processed.shape)\\n'"
      ]
     },
     "execution_count": 172,
     "metadata": {},
     "output_type": "execute_result"
    }
   ],
   "source": [
    "'''\n",
    "#remove zero columns from train and the respective columns from test\n",
    "X_train_ = deepcopy(X_train_.loc[:, (X_train_ != 0).any(axis=0)])\n",
    "print(\"X_train shape after removing zeros = \", X_train_.shape)\n",
    "#remove these columns from other datasets\n",
    "X_test_= deepcopy(X_test_[X_train_.columns])\n",
    "test_orig_processed=deepcopy(test_orig_processed[X_train_.columns])\n",
    "\n",
    "print(\"X_train_ shape after removing zeros = \", X_train_.shape)\n",
    "print(\"X_test_ shape after removing zeros = \", X_test_.shape)\n",
    "print(\"test_orig_processed shape after removing zeros = \", test_orig_processed.shape)\n",
    "'''"
   ]
  },
  {
   "cell_type": "markdown",
   "metadata": {},
   "source": [
    "### Model utils"
   ]
  },
  {
   "cell_type": "code",
   "execution_count": 173,
   "metadata": {},
   "outputs": [],
   "source": [
    "def printErrors(Y_train,Y_pred):\n",
    "    print('Root Mean Squared Log Error:', round(np.sqrt(metrics.mean_squared_error(np.log(Y_train), np.log(Y_pred))),5))\n",
    "    #print('Mean % error:',round(np.sqrt(metrics.mean_squared_error((Y_train), (Y_pred)))/np.average((Y_pred))*100,2))\n",
    "    print('Mean error:',round(np.sqrt(metrics.mean_squared_error((Y_train), (Y_pred)))))    "
   ]
  },
  {
   "cell_type": "code",
   "execution_count": 174,
   "metadata": {},
   "outputs": [],
   "source": [
    "def saveOutput(y_pred):\n",
    "    y_pred_df=pd.DataFrame()\n",
    "    y_pred_df[\"Id\"]=range(1461,1461+len(y_pred),1)\n",
    "    y_pred_df[\"SalePrice\"]=y_pred\n",
    "    file = \"my_submission.csv\"\n",
    "    y_pred_df.to_csv(file,index=False)\n",
    "    print(\"saved to file :\"+file)"
   ]
  },
  {
   "cell_type": "code",
   "execution_count": 175,
   "metadata": {},
   "outputs": [],
   "source": [
    "def residualPlot(pred,actual):\n",
    "    residual = pred - actual\n",
    "    sns.scatterplot(x=actual,y=residual)"
   ]
  },
  {
   "cell_type": "markdown",
   "metadata": {},
   "source": [
    "### Models"
   ]
  },
  {
   "cell_type": "code",
   "execution_count": 176,
   "metadata": {},
   "outputs": [],
   "source": [
    "#model1\n",
    "def linear_reg(X_train_, X_test_, Y_train_, Y_test_,test_orig_processed, getOutputFile):\n",
    "    regressor = LinearRegression()  \n",
    "    regressor.fit(X_train_, Y_train_)\n",
    "    print(\"------Simple linear regression model---------\")\n",
    "    print(\"Train Errors-\")\n",
    "    Y_pred=regressor.predict(X_train_)\n",
    "    Y_pred_train=np.maximum(Y_pred,1)\n",
    "    printErrors(Y_train_,Y_pred_train)\n",
    "    print(\"Test Errors-\")\n",
    "    Y_pred=regressor.predict(X_test_)\n",
    "    Y_pred_test=np.maximum(Y_pred,1)\n",
    "    printErrors(Y_test_,Y_pred_test)\n",
    "    \n",
    "    Y_pred_dev=regressor.predict(test_orig_processed)\n",
    "    Y_pred_dev=np.maximum(Y_pred_dev,1)\n",
    "    if(getOutputFile==True):\n",
    "        print(\"Saving output for upload\")\n",
    "        saveOutput(Y_pred_dev)\n",
    "    return regressor,Y_pred_train,Y_pred_test,Y_pred_dev"
   ]
  },
  {
   "cell_type": "code",
   "execution_count": 177,
   "metadata": {},
   "outputs": [],
   "source": [
    "#model2\n",
    "#same with logarithmic Y\n",
    "def linear_reg_withlog(X_train_, X_test_, Y_train_, Y_test_,test_orig_processed, getOutputFile):\n",
    "    Y_train_exp=np.log(Y_train_)\n",
    "    Y_test_exp=np.log(Y_test_)\n",
    "    \n",
    "    regressor = LinearRegression()  \n",
    "    regressor.fit(X_train_, Y_train_exp)\n",
    "    print(\"------Simple linear regression model with log---------\")\n",
    "    print(\"Train Errors-\")\n",
    "    Y_pred=regressor.predict(X_train_)\n",
    "    Y_pred_train=np.exp(Y_pred)\n",
    "    printErrors(Y_train_,Y_pred_train)\n",
    "    print(\"Test Errors-\")\n",
    "    Y_pred=regressor.predict(X_test_)\n",
    "    Y_pred=np.exp(Y_pred)\n",
    "    Y_pred_test=np.maximum(Y_pred,1)#TODO check why this is happening \n",
    "    #printErrors(Y_test_,Y_pred_test)\n",
    "\n",
    "    Y_pred_dev=np.exp(regressor.predict(test_orig_processed))\n",
    "    Y_pred_dev=np.maximum(Y_pred_dev,1)#TODO check why this is happening \n",
    "    if(getOutputFile==True):\n",
    "        print(\"Saving output for upload\")\n",
    "        saveOutput(Y_pred_dev)\n",
    "    return regressor,Y_pred_train,Y_pred_test,Y_pred_dev"
   ]
  },
  {
   "cell_type": "code",
   "execution_count": 178,
   "metadata": {},
   "outputs": [],
   "source": [
    "#model3\n",
    "#same with logarithmic Y\n",
    "def ols_withlog(X_train_, X_test_, Y_train_, Y_test_,test_orig_processed, getOutputFile):\n",
    "    Y_train_exp=np.log(Y_train_)\n",
    "    Y_test_exp=np.log(Y_test_)\n",
    "    \n",
    "    regressor = LinearRegression()  \n",
    "    regressor = sm.OLS(Y_train_exp, X_train_).fit()\n",
    "    print(\"------OLS model with log---------\")\n",
    "    print(\"Train Errors-\")\n",
    "    Y_pred=regressor.predict(X_train_)\n",
    "    Y_pred_train=np.exp(Y_pred)\n",
    "    printErrors(Y_train_,Y_pred_train)\n",
    "    print(\"Test Errors-\")\n",
    "    Y_pred=regressor.predict(X_test_)\n",
    "    Y_pred_test=np.exp(Y_pred)\n",
    "    printErrors(Y_test_,Y_pred_test)\n",
    "    \n",
    "    Y_pred_dev=regressor.predict(test_orig_processed)\n",
    "    if(getOutputFile==True):\n",
    "        print(\"Saving output for upload\")\n",
    "        saveOutput(Y_pred_dev)\n",
    "    return regressor,Y_pred_train,Y_pred_test,Y_pred_dev"
   ]
  },
  {
   "cell_type": "code",
   "execution_count": 179,
   "metadata": {},
   "outputs": [],
   "source": [
    "#model4\n",
    "#same with logarithmic Y\n",
    "def ols_withscale(X_train_, X_test_, Y_train_, Y_test_,test_orig_processed, getOutputFile):\n",
    "    Y_train_exp=np.log(Y_train_)\n",
    "\n",
    "    regressor = LinearRegression()  \n",
    "    regressor = sm.OLS(Y_train_exp, X_train_).fit()\n",
    "    print(\"------OLS model outliers removed---------\")\n",
    "    print(\"Train Errors-\")\n",
    "    Y_pred=regressor.predict(X_train_)\n",
    "    Y_pred_train=np.exp(Y_pred)\n",
    "    printErrors(Y_train_,Y_pred_train)\n",
    "    print(\"Test Errors-\")\n",
    "    Y_pred=regressor.predict(X_test_)\n",
    "    Y_pred_test=np.exp(Y_pred)\n",
    "    printErrors(Y_test_,Y_pred_test)\n",
    "    \n",
    "    Y_pred_dev=np.exp(regressor.predict(test_orig_processed))\n",
    "    if(getOutputFile==True):\n",
    "        print(\"Saving output for upload\")\n",
    "        saveOutput(Y_pred_dev)\n",
    "    return regressor,Y_pred_train,Y_pred_test,Y_pred_dev"
   ]
  },
  {
   "cell_type": "code",
   "execution_count": 180,
   "metadata": {},
   "outputs": [],
   "source": [
    "#model5\n",
    "#same with logarithmic Y\n",
    "def rfmodel(X_train_, X_test_, Y_train_, Y_test_,test_orig_processed, getOutputFile):\n",
    "    Y_train_exp=np.log(Y_train_)\n",
    "    \n",
    "    rf = RandomForestRegressor(n_estimators=500)\n",
    "    rf.fit(X_train_, Y_train_exp)\n",
    "    print(\"------random forest---------\")\n",
    "    print(\"Train Errors-\")\n",
    "    Y_pred=rf.predict(X_train_)\n",
    "    Y_pred_train=np.exp(Y_pred)\n",
    "    printErrors(Y_train_,Y_pred_train)\n",
    "    print(\"Test Errors-\")\n",
    "    Y_pred=rf.predict(X_test_)\n",
    "    Y_pred_test=np.exp(Y_pred)\n",
    "    printErrors(Y_test_,Y_pred_test)\n",
    "    \n",
    "    Y_pred_dev=np.exp(rf.predict(test_orig_processed))\n",
    "    if(getOutputFile==True):\n",
    "        print(\"Saving output for upload\")\n",
    "        saveOutput(Y_pred_dev)\n",
    "    return rf,Y_pred_train,Y_pred_test,Y_pred_dev"
   ]
  },
  {
   "cell_type": "code",
   "execution_count": 181,
   "metadata": {},
   "outputs": [],
   "source": [
    "#model6\n",
    "def lasso(X_train_, X_test_, Y_train_, Y_test_,test_orig_processed, getOutputFile):\n",
    "\n",
    "    \n",
    "    Y_train_exp=np.log(Y_train_)\n",
    "    lasso=linear_model.Lasso(max_iter=100000,normalize=False,alpha=0.0005,fit_intercept=True,tol=1e-2)\n",
    "    lasso.fit(X_train_, Y_train_exp)\n",
    "    print(\"------lasso---------\")\n",
    "    print(\"Train Errors-\")\n",
    "    Y_pred=lasso.predict(X_train_)\n",
    "    Y_pred_train=np.exp(Y_pred)\n",
    "    printErrors(Y_train_,Y_pred_train)\n",
    "    print(\"Test Errors-\")\n",
    "    Y_pred=lasso.predict(X_test_)\n",
    "    Y_pred_test=np.exp(Y_pred)\n",
    "    printErrors(Y_test_,Y_pred_test)\n",
    "    \n",
    "    Y_pred_dev=np.exp(lasso.predict(test_orig_processed))\n",
    "    if(getOutputFile==True):\n",
    "        print(\"Saving output for upload\")\n",
    "        saveOutput(Y_pred_dev)\n",
    "    return lasso,Y_pred_train,Y_pred_test,Y_pred_dev"
   ]
  },
  {
   "cell_type": "code",
   "execution_count": 182,
   "metadata": {},
   "outputs": [],
   "source": [
    "#model7\n",
    "def nnmodel(X_train_, X_test_, Y_train_, Y_test_,test_orig_processed, getOutputFile):\n",
    "    Y_train_exp=np.log(Y_train_)\n",
    "    Y_train_exp = deepcopy([[y] for y in Y_train_exp])\n",
    "    y_test_exp =np.log(Y_test_)\n",
    "    y_test_exp = deepcopy([[y] for y in y_test_exp])\n",
    "    \n",
    "    #dimensions\n",
    "    batch,dim,hidden,out = int(X_train_.shape[0]),int(X_train_.shape[1]),int(X_train_.shape[1]/2),1\n",
    "    hidden=64\n",
    "    #create input output tensors\n",
    "    x = torch.tensor(X_train_.values)\n",
    "    y = torch.tensor(Y_train_exp)\n",
    "    y_test_tensor = torch.tensor(y_test_exp)\n",
    "    lr = 1e-2\n",
    "    epochs = 10000\n",
    "    \n",
    "    model = torch.nn.Sequential(\n",
    "        torch.nn.Linear(dim, hidden),\n",
    "        torch.nn.ReLU(),\n",
    "        torch.nn.Linear(hidden, hidden),\n",
    "        torch.nn.ReLU(),\n",
    "        #torch.nn.Linear(math.floor(hidden), 64),\n",
    "        #torch.nn.ReLU(),\n",
    "        torch.nn.Linear(hidden,out)\n",
    "    )\n",
    "    model=model.float()\n",
    "    loss_fn = torch.nn.MSELoss(reduction='mean')\n",
    "    optimizer = torch.optim.Adam(model.parameters(), lr=lr)\n",
    "    train_loss =[]\n",
    "    test_loss = []\n",
    "    for i in range(epochs):\n",
    "        pred=model(x.float())\n",
    "        loss = loss_fn(pred,y.float())\n",
    "        if i%1000==0:\n",
    "            print(i,loss.item())\n",
    "            train_loss.append([i,loss.item()])\n",
    "            test_loss.append([i,loss_fn(model(torch.tensor(X_test_.values).float()),y_test_tensor.float()).item()])\n",
    "    \n",
    "        #reset gradients\n",
    "        optimizer.zero_grad()\n",
    "        loss.backward()\n",
    "        optimizer.step()\n",
    "\n",
    "    \n",
    "    print(\"------neural net 1hidden---------\")\n",
    "    print(\"Train Errors-\")\n",
    "    predy=model(x.float())\n",
    "    Y_pred=predy.detach().numpy()    \n",
    "    Y_pred_train=np.exp(Y_pred)\n",
    "    printErrors(Y_train_,Y_pred_train)\n",
    "    #sns.scatterplot(pred-y.detach().numpy(),y.detach().numpy())\n",
    "    print(\"Test Errors-\")\n",
    "    Y_pred=model(torch.tensor(X_test_.values).float())\n",
    "    Y_pred=Y_pred.detach().numpy()    \n",
    "    Y_pred_test=np.exp(Y_pred)\n",
    "    printErrors(Y_test_,Y_pred_test)\n",
    "\n",
    "    pred = model(torch.tensor(test_orig_processed.values).float())\n",
    "    pred = pred.detach().numpy()\n",
    "    Y_pred_dev=np.exp(pred)\n",
    "    if(getOutputFile==True):\n",
    "        print(\"Saving output for upload\")\n",
    "        saveOutput(Y_pred_dev)\n",
    "    return model,Y_pred_train,Y_pred_test,Y_pred_dev"
   ]
  },
  {
   "cell_type": "code",
   "execution_count": 183,
   "metadata": {},
   "outputs": [],
   "source": [
    "#model8\n",
    "def reg_with_xgboost(X_train_, X_test_, Y_train_, Y_test_,test_orig_processed, getOutputFile):\n",
    "    Y_train_exp=np.log(Y_train_)\n",
    "    Y_test_exp=np.log(Y_test_)\n",
    "    \n",
    "    regressor = xgb.XGBRegressor(n_estimators=100,max_depth=5,nthread=2,rate_drop=0.001,one_drop=1,booster='dart',ntree_limit=20)\n",
    "    regressor.fit(X_train_, Y_train_exp)\n",
    "    print(\"------XGBoost with log---------\")\n",
    "    print(\"Train Errors-\")\n",
    "    Y_pred=regressor.predict(X_train_)\n",
    "    Y_pred_train=np.exp(Y_pred)\n",
    "    printErrors(Y_train_,Y_pred_train)\n",
    "    print(\"Test Errors-\")\n",
    "    Y_pred=regressor.predict(X_test_)\n",
    "    Y_pred=np.exp(Y_pred)\n",
    "    Y_pred_test=np.maximum(Y_pred,1)#TODO check why this is happening \n",
    "    printErrors(Y_test_,Y_pred_test)\n",
    "\n",
    "    Y_pred_dev=np.exp(regressor.predict(test_orig_processed))\n",
    "    Y_pred_dev=np.maximum(Y_pred_dev,1)#TODO check why this is happening \n",
    "    if(getOutputFile==True):\n",
    "        print(\"Saving output for upload\")\n",
    "        saveOutput(Y_pred_dev)\n",
    "    return regressor,Y_pred_train,Y_pred_test,Y_pred_dev"
   ]
  },
  {
   "cell_type": "code",
   "execution_count": 184,
   "metadata": {},
   "outputs": [],
   "source": [
    "#model9\n",
    "from sklearn.linear_model import BayesianRidge \n",
    "def bayesian(X_train_, X_test_, Y_train_, Y_test_,test_orig_processed, getOutputFile):\n",
    "    Y_train_exp=np.log(Y_train_)\n",
    "    Y_test_exp=np.log(Y_test_)\n",
    "    \n",
    "    regressor = BayesianRidge(tol=1e-5,n_iter=1000,copy_X=True,fit_intercept=True)\n",
    "    regressor.fit(X_train_, Y_train_exp)\n",
    "    print(\"------bayes---------\")\n",
    "    print(\"Train Errors-\")\n",
    "    Y_pred=regressor.predict(X_train_)\n",
    "    Y_pred_train=np.exp(Y_pred)\n",
    "    printErrors(Y_train_,Y_pred_train)\n",
    "    print(\"Test Errors-\")\n",
    "    Y_pred=regressor.predict(X_test_)\n",
    "    Y_pred=np.exp(Y_pred)\n",
    "    Y_pred_test=np.maximum(Y_pred,1)#TODO check why this is happening \n",
    "    printErrors(Y_test_,Y_pred_test)\n",
    "\n",
    "    Y_pred_dev=np.exp(regressor.predict(test_orig_processed))\n",
    "    Y_pred_dev=np.maximum(Y_pred_dev,1)#TODO check why this is happening \n",
    "    if(getOutputFile==True):\n",
    "        print(\"Saving output for upload\")\n",
    "        saveOutput(Y_pred_dev)\n",
    "    return regressor,Y_pred_train,Y_pred_test,Y_pred_dev"
   ]
  },
  {
   "cell_type": "code",
   "execution_count": 185,
   "metadata": {
    "scrolled": false
   },
   "outputs": [
    {
     "name": "stdout",
     "output_type": "stream",
     "text": [
      "------Simple linear regression model---------\n",
      "Train Errors-\n",
      "Root Mean Squared Log Error: 0.10445\n",
      "Mean error: 17999.0\n",
      "Test Errors-\n",
      "Root Mean Squared Log Error: 0.13073\n",
      "Mean error: 23946.0\n",
      "------Simple linear regression model with log---------\n",
      "Train Errors-\n",
      "Root Mean Squared Log Error: 0.08954\n",
      "Mean error: 16656.0\n",
      "Test Errors-\n",
      "------XGBoost with log---------\n",
      "Train Errors-\n",
      "Root Mean Squared Log Error: 0.03697\n",
      "Mean error: 6634.0\n",
      "Test Errors-\n",
      "Root Mean Squared Log Error: 0.11428\n",
      "Mean error: 22602.0\n",
      "Saving output for upload\n",
      "saved to file :my_submission.csv\n",
      "------bayes---------\n",
      "Train Errors-\n",
      "Root Mean Squared Log Error: 0.09834\n",
      "Mean error: 17810.0\n",
      "Test Errors-\n",
      "Root Mean Squared Log Error: 0.10267\n",
      "Mean error: 19809.0\n",
      "Saving output for upload\n",
      "saved to file :my_submission.csv\n"
     ]
    }
   ],
   "source": [
    "linReg,Y_pred_train1,Y_pred_test1,Y_pred_dev1 = linear_reg(deepcopy(X_train_), deepcopy(X_test_), deepcopy(Y_train_), deepcopy(Y_test_),deepcopy(test_orig_processed), False)\n",
    "linRegLog,Y_pred_train2,Y_pred_test2,Y_pred_dev2 = linear_reg_withlog(deepcopy(X_train_), deepcopy(X_test_), deepcopy(Y_train_), deepcopy(Y_test_),deepcopy(test_orig_processed), False)\n",
    "#olsLog,Y_pred_train3,Y_pred_test3,Y_pred_dev3 = ols_withlog(deepcopy(X_train_), deepcopy(X_test_), deepcopy(Y_train_), deepcopy(Y_test_),deepcopy(test_orig_processed), False)\n",
    "#olsLog1,Y_pred_train4,Y_pred_test4,Y_pred_dev4 = ols_withscale(deepcopy(X_train_), deepcopy(X_test_), deepcopy(Y_train_), deepcopy(Y_test_),deepcopy(test_orig_processed), False)\n",
    "#rf,Y_pred_train5,Y_pred_test5,Y_pred_dev5 = rfmodel(deepcopy(X_train_), deepcopy(X_test_), deepcopy(Y_train_), deepcopy(Y_test_),deepcopy(test_orig_processed), True)\n",
    "#lasso,Y_pred_train6,Y_pred_test6,Y_pred_dev6 = lasso(deepcopy(X_train_), deepcopy(X_test_), deepcopy(Y_train_), deepcopy(Y_test_),deepcopy(test_orig_processed), True)\n",
    "#nnmod,Y_pred_train7,Y_pred_test7,Y_pred_dev7 = nnmodel(deepcopy(X_train_), deepcopy(X_test_), deepcopy(Y_train_), deepcopy(Y_test_),deepcopy(test_orig_processed), True)\n",
    "xgmodel,Y_pred_train8,Y_pred_test8,Y_pred_dev8 = reg_with_xgboost(deepcopy(X_train_), deepcopy(X_test_), deepcopy(Y_train_), deepcopy(Y_test_),deepcopy(test_orig_processed), True)\n",
    "bayes,Y_pred_train9,Y_pred_test9,Y_pred_dev9 = bayesian(deepcopy(X_train_), deepcopy(X_test_), deepcopy(Y_train_), deepcopy(Y_test_),deepcopy(test_orig_processed), True)\n"
   ]
  },
  {
   "cell_type": "code",
   "execution_count": 186,
   "metadata": {
    "scrolled": false
   },
   "outputs": [
    {
     "name": "stdout",
     "output_type": "stream",
     "text": [
      "STD in Train Error 17783.556594006834\n",
      "STD in Test Error 19776.690617977463\n"
     ]
    },
    {
     "data": {
      "image/png": "[encoded data removed]",
      "text/plain": [
       "<Figure size 1080x576 with 4 Axes>"
      ]
     },
     "metadata": {
      "needs_background": "light"
     },
     "output_type": "display_data"
    }
   ],
   "source": [
    "#plot residuals\n",
    "#residualPlot(linReg.predict(X_train_),Y_train_)\n",
    "#residualPlot(np.exp(linRegLog.predict(X_train_)),Y_train_)\n",
    "fig,ax=plt.subplots(2,2,figsize=(15,8))\n",
    "prediction =Y_pred_train9\n",
    "prediction_test =Y_pred_test9\n",
    "\n",
    "sns.scatterplot(np.log(prediction)-np.log(Y_train_),np.log(Y_train_),ax=ax[0,0])\n",
    "sns.distplot(np.log(prediction)-np.log(Y_train_),ax=ax[0,1])\n",
    "sns.scatterplot(np.log(prediction_test)-np.log(Y_test_),np.log(Y_test_),ax=ax[1,0])\n",
    "sns.distplot(np.log(prediction_test)-np.log(Y_test_),ax=ax[1,1])\n",
    "print(\"STD in Train Error\",np.sqrt(np.var(prediction-Y_train_)))\n",
    "print(\"STD in Test Error\",np.sqrt(np.var(prediction_test-Y_test_)))"
   ]
  },
  {
   "cell_type": "markdown",
   "metadata": {},
   "source": [
    "## Stacking Models now"
   ]
  },
  {
   "cell_type": "code",
   "execution_count": 187,
   "metadata": {},
   "outputs": [
    {
     "name": "stdout",
     "output_type": "stream",
     "text": [
      "(1164, 3)\n",
      "(1164,)\n"
     ]
    }
   ],
   "source": [
    "\n",
    "newTrain_train=pd.DataFrame()\n",
    "newTrain_train['LinReg']=np.array(Y_pred_train1)\n",
    "#newTrain_train['LinRegLog']=np.array(Y_pred_train2)\n",
    "#newTrain_train['OLS']=np.array(Y_pred_train3)\n",
    "#newTrain_train['OLSLog']=np.array(Y_pred_train4)\n",
    "#newTrain_train['RF']=np.array(Y_pred_train5)\n",
    "#newTrain_train['lasso']=Y_pred_train6\n",
    "#newTrain_train['NN']=np.array(Y_pred_train7)\n",
    "newTrain_train['XG']=np.array(Y_pred_train8)\n",
    "newTrain_train['BY']=np.array(Y_pred_train9)\n",
    "\n",
    "\n",
    "print(newTrain_train.shape)\n",
    "newYTrain_train=np.array(Y_train_)\n",
    "print(newYTrain_train.shape)\n",
    "\n",
    "trainingdata=newTrain_train\n",
    "trainingtarget=newYTrain_train"
   ]
  },
  {
   "cell_type": "code",
   "execution_count": 188,
   "metadata": {},
   "outputs": [
    {
     "name": "stdout",
     "output_type": "stream",
     "text": [
      "(292, 3)\n",
      "(292,)\n"
     ]
    }
   ],
   "source": [
    "\n",
    "newTrain=pd.DataFrame()\n",
    "newTrain['LinReg']=np.array(Y_pred_test1)\n",
    "#newTrain['LinRegLog']=np.array(Y_pred_test2)\n",
    "#newTrain['OLS']=np.array(Y_pred_test3)\n",
    "#newTrain['OLSLog']=np.array(Y_pred_test4)\n",
    "#newTrain['RF']=np.array(Y_pred_test5)\n",
    "#newTrain['lasso']=Y_pred_test6\n",
    "#newTrain['NN']=np.array(Y_pred_test7)\n",
    "newTrain['XG']=np.array(Y_pred_test8)\n",
    "newTrain['BY']=np.array(Y_pred_test9)\n",
    "\n",
    "\n",
    "\n",
    "print(newTrain.shape)\n",
    "newYTrain=np.array(Y_test_)\n",
    "print(Y_test_.shape)\n",
    "trainingdata=newTrain\n",
    "trainingtarget=newYTrain\n"
   ]
  },
  {
   "cell_type": "code",
   "execution_count": 189,
   "metadata": {
    "scrolled": true
   },
   "outputs": [
    {
     "name": "stdout",
     "output_type": "stream",
     "text": [
      "(1459, 3)\n"
     ]
    }
   ],
   "source": [
    "newTest=pd.DataFrame()\n",
    "newTest['LinReg']=np.array(Y_pred_dev1)\n",
    "#newTest['LinRegLog']=np.array(Y_pred_dev2)\n",
    "#newTest['OLS']=np.array(Y_pred_dev3)\n",
    "#newTest['OLSLog']=np.array(Y_pred_dev4)\n",
    "#newTest['RF']=np.array(Y_pred_dev5)\n",
    "#newTest['lasso']=np.array(Y_pred_dev6)\n",
    "#newTest['NN']=np.array(Y_pred_dev7)\n",
    "newTest['XG']=np.array(Y_pred_dev8)\n",
    "newTest['BY']=np.array(Y_pred_dev9)\n",
    "\n",
    "\n",
    "\n",
    "print(newTest.shape)"
   ]
  },
  {
   "cell_type": "code",
   "execution_count": 190,
   "metadata": {},
   "outputs": [],
   "source": [
    "def adaboostStack(newTrain,newYTrain,newTest,getOutputFile):\n",
    "    lr = 0.05\n",
    "    #newYTrainExp=np.log(newYTrain)\n",
    "    reg=AdaBoostRegressor(loss='square',n_estimators=1000,learning_rate=lr)\n",
    "    reg.fit(newTrain,newYTrain)\n",
    "    y_pred_train = reg.predict(newTrain)\n",
    "    y_pred_train=np.maximum(y_pred_train,0)\n",
    "    #y_pred_train=np.exp(y_pred_train)\n",
    "    printErrors(newYTrain,y_pred_train)\n",
    "    \n",
    "    Y_pred_dev=reg.predict(newTest)\n",
    "    #Y_pred_dev=np.exp(Y_pred_dev)\n",
    "    if(getOutputFile==True):\n",
    "        print(\"Saving output for upload\")\n",
    "        saveOutput(Y_pred_dev)\n",
    "    return reg"
   ]
  },
  {
   "cell_type": "code",
   "execution_count": 191,
   "metadata": {},
   "outputs": [],
   "source": [
    "def rfStack(newTrain,newYTrain,newTest,getOutputFile):\n",
    "    lr = 0.05\n",
    "    #newYTrainExp=np.log(newYTrain)\n",
    "    reg=RandomForestRegressor(n_estimators = 1000,warm_start=True)\n",
    "    reg.fit(newTrain,newYTrain)\n",
    "    y_pred_train = reg.predict(newTrain)\n",
    "    y_pred_train=np.maximum(y_pred_train,0)\n",
    "    #y_pred_train=np.exp(y_pred_train)\n",
    "    print(\"rf stack\")\n",
    "    printErrors(newYTrain,y_pred_train)\n",
    "    \n",
    "    Y_pred_dev=reg.predict(newTest)\n",
    "    #Y_pred_dev=np.exp(Y_pred_dev)\n",
    "    if(getOutputFile==True):\n",
    "        print(\"Saving output for upload\")\n",
    "        saveOutput(Y_pred_dev)\n",
    "    return reg"
   ]
  },
  {
   "cell_type": "code",
   "execution_count": 192,
   "metadata": {},
   "outputs": [],
   "source": [
    "def rfStack_exp(newTrain,newYTrain,newTest,getOutputFile):\n",
    "    lr = 0.05\n",
    "    newYTrainExp=np.log(newYTrain)\n",
    "    reg=RandomForestRegressor(n_estimators = 10000)\n",
    "    reg.fit(newTrain,newYTrainExp)\n",
    "    y_pred_train = reg.predict(newTrain)\n",
    "    y_pred_train=np.exp(y_pred_train)\n",
    "    print(\"rf stack exp\")\n",
    "    printErrors(newYTrain,y_pred_train)\n",
    "    \n",
    "    Y_pred_dev=reg.predict(newTest)\n",
    "    Y_pred_dev=np.exp(Y_pred_dev)\n",
    "    if(getOutputFile==True):\n",
    "        print(\"Saving output for upload\")\n",
    "        saveOutput(Y_pred_dev)\n",
    "    return reg"
   ]
  },
  {
   "cell_type": "code",
   "execution_count": 193,
   "metadata": {},
   "outputs": [],
   "source": [
    "def xgStack_exp(newTrain,newYTrain,newTest,getOutputFile):\n",
    "    newYTrainExp=np.log(newYTrain)\n",
    "    reg=xgb.XGBRegressor()\n",
    "    reg.fit(newTrain,newYTrainExp)\n",
    "    y_pred_train = reg.predict(newTrain)\n",
    "    y_pred_train=np.maximum(y_pred_train,0)\n",
    "    y_pred_train=np.exp(y_pred_train)\n",
    "    print(\"xgb\")\n",
    "    printErrors(newYTrain,y_pred_train)\n",
    "    \n",
    "    Y_pred_dev=reg.predict(newTest)\n",
    "    Y_pred_dev=np.exp(Y_pred_dev)\n",
    "    if(getOutputFile==True):\n",
    "        print(\"Saving output for upload\")\n",
    "        saveOutput(Y_pred_dev)\n",
    "    return reg"
   ]
  },
  {
   "cell_type": "code",
   "execution_count": 194,
   "metadata": {},
   "outputs": [],
   "source": [
    "#booststack = adaboostStack(trainingdata,trainingtarget,newTest,True)\n",
    "#rfstack = rfStack(trainingdata,trainingtarget,newTest,True)\n",
    "#rfstackexp = rfStack_exp(trainingdata,trainingtarget,newTest,True)\n",
    "#xgstackexp = xgStack_exp(trainingdata,trainingtarget,newTest,True)"
   ]
  },
  {
   "cell_type": "markdown",
   "metadata": {},
   "source": [
    "### Choose a model and run it on all data for submission"
   ]
  },
  {
   "cell_type": "code",
   "execution_count": 195,
   "metadata": {},
   "outputs": [],
   "source": [
    "def runselectedModel(model,X_train_processed,Y_train_processed,test_orig_processed):\n",
    "    Y_train=np.log(Y_train_processed)\n",
    "    model.fit(X_train_processed,Y_train)\n",
    "    \n",
    "    Y_pred=model.predict(X_train_processed)\n",
    "    Y_pred=np.exp(Y_pred)\n",
    "    Y_pred_test=np.maximum(Y_pred,1)#TODO check why this is happening \n",
    "    printErrors(Y_train_processed,Y_pred_test)\n",
    "    \n",
    "    Y_pred_dev=model.predict(test_orig_processed)\n",
    "    Y_pred_dev=np.exp(Y_pred_dev)\n",
    "    print(\"Saving output for upload\")\n",
    "    saveOutput(Y_pred_dev)"
   ]
  },
  {
   "cell_type": "code",
   "execution_count": 196,
   "metadata": {
    "scrolled": true
   },
   "outputs": [
    {
     "name": "stdout",
     "output_type": "stream",
     "text": [
      "Root Mean Squared Log Error: 0.09756\n",
      "Mean error: 17870.0\n",
      "Saving output for upload\n",
      "saved to file :my_submission.csv\n",
      "Root Mean Squared Log Error: 0.12641\n",
      "Mean error: 27992.0\n"
     ]
    }
   ],
   "source": [
    "runselectedModel(bayes,deepcopy(X_train_processed),deepcopy(Y_train_processed),deepcopy(test_orig_processed))\n",
    "prediction = pd.read_csv( \"my_submission.csv\" )\n",
    "prediction=pd.DataFrame(prediction)\n",
    "actual = pd.read_csv( \"full-score.csv\" )\n",
    "actual=pd.DataFrame(actual)\n",
    "printErrors(prediction['SalePrice'],actual['SalePrice'])"
   ]
  },
  {
   "cell_type": "markdown",
   "metadata": {},
   "source": [
    "### Get relevant features and run again"
   ]
  },
  {
   "cell_type": "code",
   "execution_count": 197,
   "metadata": {},
   "outputs": [],
   "source": [
    "#imp = dict(zip(X_train_.columns,xgmodel.feature_importances_))\n",
    "imp = dict(zip(X_train_.columns,bayes.coef_))\n",
    "best=[74,79]#\n",
    "impsorted={k:v for k,v in sorted(imp.items(),key=lambda item:item[1],reverse=True)[:100]}\n",
    "newcols=impsorted.keys()"
   ]
  },
  {
   "cell_type": "code",
   "execution_count": 198,
   "metadata": {
    "scrolled": false
   },
   "outputs": [
    {
     "name": "stdout",
     "output_type": "stream",
     "text": [
      "------bayes---------\n",
      "Train Errors-\n",
      "Root Mean Squared Log Error: 0.10404\n",
      "Mean error: 18805.0\n",
      "Test Errors-\n",
      "Root Mean Squared Log Error: 0.10319\n",
      "Mean error: 19992.0\n",
      "Saving output for upload\n",
      "saved to file :my_submission.csv\n"
     ]
    }
   ],
   "source": [
    "bayes2,Y_pred_train8,Y_pred_test8,Y_pred_dev8 = bayesian(deepcopy(X_train_[newcols]), deepcopy(X_test_[newcols]),\\\n",
    "                                                           deepcopy(Y_train_), deepcopy(Y_test_),\\\n",
    "                                                           deepcopy(test_orig_processed[newcols]), True)"
   ]
  },
  {
   "cell_type": "code",
   "execution_count": 199,
   "metadata": {},
   "outputs": [
    {
     "name": "stdout",
     "output_type": "stream",
     "text": [
      "Root Mean Squared Log Error: 0.103\n",
      "Mean error: 18729.0\n",
      "Saving output for upload\n",
      "saved to file :my_submission.csv\n",
      "Root Mean Squared Log Error: 0.12385\n",
      "Mean error: 26434.0\n"
     ]
    }
   ],
   "source": [
    "runselectedModel(bayes2,deepcopy(X_train_processed[newcols]),deepcopy(Y_train_processed),\\\n",
    "                 deepcopy(test_orig_processed[newcols]))\n",
    "prediction = pd.read_csv( \"my_submission.csv\" )\n",
    "prediction=pd.DataFrame(prediction)\n",
    "actual = pd.read_csv( \"full-score.csv\" )\n",
    "actual=pd.DataFrame(actual)\n",
    "printErrors(prediction['SalePrice'],actual['SalePrice'])"
   ]
  },
  {
   "cell_type": "code",
   "execution_count": null,
   "metadata": {},
   "outputs": [],
   "source": []
  }
 ],
 "metadata": {
  "kernelspec": {
   "display_name": "Python 3",
   "language": "python",
   "name": "python3"
  },
  "language_info": {
   "codemirror_mode": {
    "name": "ipython",
    "version": 3
   },
   "file_extension": ".py",
   "mimetype": "text/x-python",
   "name": "python",
   "nbconvert_exporter": "python",
   "pygments_lexer": "ipython3",
   "version": "3.7.3"
  }
 },
 "nbformat": 4,
 "nbformat_minor": 2
}
