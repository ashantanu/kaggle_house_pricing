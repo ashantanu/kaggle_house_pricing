{
 "cells": [
  {
   "cell_type": "code",
   "execution_count": 5,
   "metadata": {},
   "outputs": [
    {
     "name": "stderr",
     "output_type": "stream",
     "text": [
      "/Users/shaan/anaconda3/lib/python3.7/site-packages/statsmodels/compat/pandas.py:23: FutureWarning: The Panel class is removed from pandas. Accessing it from the top-level namespace will also be removed in the next version\n",
      "  data_klasses = (pandas.Series, pandas.DataFrame, pandas.Panel)\n"
     ]
    }
   ],
   "source": [
    "import torch\n",
    "import torchvision\n",
    "import torch.nn as nn\n",
    "import torch.nn.functional as F\n",
    "\n",
    "import pandas as pd\n",
    "import numpy as np\n",
    "import math\n",
    "from sklearn.preprocessing import OneHotEncoder\n",
    "from sklearn.preprocessing import StandardScaler\n",
    "from sklearn.preprocessing import scale\n",
    "import statsmodels.api as sm\n",
    "from sklearn import preprocessing\n",
    "import seaborn as sns\n",
    "from sklearn.model_selection import train_test_split \n",
    "from sklearn.linear_model import LinearRegression\n",
    "from sklearn.ensemble import AdaBoostRegressor\n",
    "from sklearn.ensemble import RandomForestRegressor\n",
    "from sklearn import linear_model\n",
    "from sklearn import metrics\n",
    "import matplotlib.pyplot as plt  \n",
    "\n",
    "from numpy import array\n",
    "from numpy import argmax\n",
    "from sklearn.preprocessing import LabelEncoder\n",
    "from sklearn.preprocessing import OneHotEncoder\n",
    "from pandas_profiling import ProfileReport"
   ]
  },
  {
   "cell_type": "code",
   "execution_count": 6,
   "metadata": {},
   "outputs": [],
   "source": [
    "train_orig = pd.read_csv( \"/Users/shaan/Downloads/DataSet/train.csv\" )\n",
    "train_orig=pd.DataFrame(train_orig)\n",
    "Y_train=train_orig[\"SalePrice\"]\n",
    "train=train_orig.drop(['SalePrice'],axis=1)\n",
    "test_orig = pd.read_csv( \"/Users/shaan/Downloads/DataSet/test.csv\" )\n",
    "test_orig=pd.DataFrame(test_orig)"
   ]
  },
  {
   "cell_type": "code",
   "execution_count": 7,
   "metadata": {},
   "outputs": [],
   "source": [
    "#cleaning\n",
    "def cleanCat(categoricalData):\n",
    "    categoricalData[\"MSZoning\"].replace('C (all)', 'C',inplace=True)\n",
    "    categoricalData[\"Alley\"].replace(np.nan, 'NA',inplace=True)\n",
    "    categoricalData[\"MasVnrType\"].replace(np.nan, 'None',inplace=True)#CHECK THIS\n",
    "    categoricalData.replace(np.nan, 'NA',inplace=True)\n",
    "    categoricalData[\"Exterior2nd\"].replace('CmentBd', 'CemntBd',inplace=True)\n",
    "    categoricalData[\"Exterior2nd\"].replace('Brk Cmn', 'BrkComm',inplace=True)\n",
    "    categoricalData[\"Exterior2nd\"].replace('Wd Shng', 'WdShing',inplace=True)\n",
    "    return categoricalData"
   ]
  },
  {
   "cell_type": "code",
   "execution_count": 8,
   "metadata": {},
   "outputs": [],
   "source": [
    "#encode\n",
    "def encodeCat(categoricalData):\n",
    "    categoricalData=cleanCat(categoricalData)\n",
    "    encodedCategoricalData=pd.get_dummies(categoricalData)\n",
    "    return encodedCategoricalData"
   ]
  },
  {
   "cell_type": "code",
   "execution_count": 9,
   "metadata": {},
   "outputs": [],
   "source": [
    "#process numerical data\n",
    "def processNonCat(nonCategoricalData, testFlag, averageYears):\n",
    "    lowerLimitFor0Years = -100\n",
    "    \n",
    "    nonCategoricalData=nonCategoricalData.drop(['Id'],axis=1)\n",
    "    nonCategoricalData.replace(np.nan, 0,inplace=True)#How to handle zeros\n",
    "    yearCols=['YrSold','YearBuilt','YearRemodAdd','MoSold','GarageYrBlt']    \n",
    "    if(testFlag==False):\n",
    "        averageYears = np.floor(np.average(nonCategoricalData[yearCols],axis=0))\n",
    "    nonCategoricalData[yearCols]=nonCategoricalData[yearCols]- averageYears\n",
    "    nonCategoricalData[yearCols]=np.maximum(nonCategoricalData[yearCols], lowerLimitFor0Years)\n",
    "    print(\"using below averages:\")\n",
    "    print(averageYears)\n",
    "    areaCols=['LotArea','MasVnrArea','BsmtFinSF1','BsmtFinSF2','BsmtUnfSF', '1stFlrSF','2ndFlrSF','LowQualFinSF','GrLivArea','GarageArea','WoodDeckSF', 'OpenPorchSF','EnclosedPorch','3SsnPorch','ScreenPorch','PoolArea']\n",
    "    #TotalBsmtSF = type1 + type2 + unfin (check)\n",
    "    for col in areaCols:\n",
    "        nonCategoricalData[col]=np.log(nonCategoricalData[col]+10)-np.log(10)\n",
    "\n",
    "    nonCategoricalData['MiscVal']=np.log(nonCategoricalData['MiscVal']+10)-np.log(10)\n",
    "    return nonCategoricalData, averageYears"
   ]
  },
  {
   "cell_type": "code",
   "execution_count": 10,
   "metadata": {},
   "outputs": [],
   "source": [
    "def scale_nonCat(nonCategoricalData, testflag, scaler):\n",
    "    names = nonCategoricalData.columns\n",
    "    if(testflag==False):\n",
    "        scaler = preprocessing.StandardScaler()\n",
    "        nonCategoricalData = scaler.fit_transform(nonCategoricalData)\n",
    "    else:\n",
    "        nonCategoricalData = scaler.transform(nonCategoricalData)\n",
    "    nonCategoricalData=pd.DataFrame(nonCategoricalData, columns=names)\n",
    "    return nonCategoricalData,scaler"
   ]
  },
  {
   "cell_type": "code",
   "execution_count": 11,
   "metadata": {},
   "outputs": [],
   "source": [
    "def processData(train, averageYears,scaler):\n",
    "    categoricalData=train.select_dtypes(include='object').copy()\n",
    "    nonCategoricalData=train.select_dtypes(exclude='object').copy()\n",
    "    encodedCategoricalData=encodeCat(categoricalData)\n",
    "    if( type(averageYears) == type(0) ):\n",
    "        nonCategoricalData, averageYears = processNonCat(nonCategoricalData,False, 0)\n",
    "        #nonCategoricalData, scaler = scale_nonCat(nonCategoricalData,False, 0)\n",
    "    else:\n",
    "        nonCategoricalData, _ = processNonCat(nonCategoricalData,True,averageYears)\n",
    "        #nonCategoricalData, _ = scale_nonCat(nonCategoricalData,True,scaler)\n",
    "\n",
    "    nonCategoricalData=pd.concat([nonCategoricalData,encodedCategoricalData],axis=1)\n",
    "    return nonCategoricalData, averageYears, scaler"
   ]
  },
  {
   "cell_type": "code",
   "execution_count": 12,
   "metadata": {},
   "outputs": [],
   "source": [
    "def sameSchema(X_train,X_test_orig):    \n",
    "    #make sure the columns are the same and in same order\n",
    "    for col in X_train.columns:\n",
    "        if col not in X_test_orig.columns:\n",
    "            X_test_orig[col]=np.zeros(X_test_orig.shape[0])\n",
    "    X_test_orig=X_test_orig[X_train.columns]\n",
    "    return X_test_orig"
   ]
  },
  {
   "cell_type": "code",
   "execution_count": 13,
   "metadata": {},
   "outputs": [
    {
     "name": "stdout",
     "output_type": "stream",
     "text": [
      "using below averages:\n",
      "[2007. 1971. 1984.    6. 1868.]\n",
      "using below averages:\n",
      "[2007. 1971. 1984.    6. 1868.]\n"
     ]
    }
   ],
   "source": [
    "X_train_processed, averageYears,scaler = processData(train, 0,0)\n",
    "test_orig_processed, _,_ = processData(test_orig, averageYears,scaler)\n",
    "test_orig_processed = sameSchema(X_train_processed,test_orig_processed)"
   ]
  },
  {
   "cell_type": "code",
   "execution_count": 14,
   "metadata": {},
   "outputs": [],
   "source": [
    "#trasnform Y\n",
    "Y_train_processed = Y_train\n",
    "#Y_train_processed = np.log(Y_train)"
   ]
  },
  {
   "cell_type": "code",
   "execution_count": 146,
   "metadata": {},
   "outputs": [
    {
     "name": "stdout",
     "output_type": "stream",
     "text": [
      "X_train_ shape =  (1314, 303)\n",
      "Y_train_ shape =  (1314,)\n",
      "X_test_ shape =  (146, 303)\n"
     ]
    }
   ],
   "source": [
    "#split into test and train\n",
    "X_train_, X_test_, Y_train_, Y_test_ = train_test_split(X_train_processed, Y_train_processed, test_size=0.1, random_state=0)\n",
    "print(\"X_train_ shape = \", X_train_.shape)\n",
    "print(\"Y_train_ shape = \", Y_train_.shape)\n",
    "print(\"X_test_ shape = \", X_test_.shape)"
   ]
  },
  {
   "cell_type": "code",
   "execution_count": 147,
   "metadata": {
    "scrolled": true
   },
   "outputs": [
    {
     "name": "stdout",
     "output_type": "stream",
     "text": [
      "X_train shape after removing zeros =  (1314, 302)\n",
      "X_train_ shape after removing zeros =  (1314, 302)\n",
      "X_test_ shape after removing zeros =  (146, 302)\n",
      "test_orig_processed shape after removing zeros =  (1459, 302)\n"
     ]
    }
   ],
   "source": [
    "#remove zero columns from train and the respective columns from test\n",
    "X_train_ = X_train_.loc[:, (X_train_ != 0).any(axis=0)]\n",
    "print(\"X_train shape after removing zeros = \", X_train_.shape)\n",
    "#remove these columns from other datasets\n",
    "X_test_=X_test_[X_train_.columns]\n",
    "test_orig_processed=test_orig_processed[X_train_.columns]\n",
    "\n",
    "print(\"X_train_ shape after removing zeros = \", X_train_.shape)\n",
    "print(\"X_test_ shape after removing zeros = \", X_test_.shape)\n",
    "print(\"test_orig_processed shape after removing zeros = \", test_orig_processed.shape)"
   ]
  },
  {
   "cell_type": "code",
   "execution_count": 148,
   "metadata": {},
   "outputs": [],
   "source": [
    "def remove_corr(X_train_,X_test_,test_orig_processed):\n",
    "    corr_matrix = X_train_.corr().abs()\n",
    "    #sns.heatmap(corr_matrix,vmin=-1, vmax=1, center= 0)\n",
    "    upper = corr_matrix.where(np.triu(np.ones(corr_matrix.shape), k=1).astype(np.bool))\n",
    "    # Find index of feature columns with correlation greater than 0.95\n",
    "    to_drop = [column for column in upper.columns if any(abs(upper[column]) > 0.95)]\n",
    "    #print(to_drop)\n",
    "    \n",
    "    #drop high corr columns\n",
    "    X_train_=X_train_.drop(to_drop,axis=1)\n",
    "    #X_test=X_test.drop(to_drop,axis=1)\n",
    "    X_test_=X_test_.drop(to_drop,axis=1)\n",
    "    test_orig_processed=test_orig_processed.drop(to_drop,axis=1)\n",
    "    \n",
    "    #print(\"X_train_ shape after removing corr var = \", X_train_.shape)\n",
    "    #print(\"X_test_ shape after removing corr var = \", X_test_.shape)\n",
    "    #print(\"test_orig_processed shape after corr var = \", test_orig_processed.shape)\n",
    "    return X_train_,X_test_,test_orig_processed"
   ]
  },
  {
   "cell_type": "code",
   "execution_count": 149,
   "metadata": {},
   "outputs": [],
   "source": [
    "def remove_colsWithZeros(X_train_,X_test_,test_orig_processed):\n",
    "    percent0 = np.sum(X_train_==0,axis=0)/len(X_train_)\n",
    "    colsToKeep=[i for i in percent0.index if percent0[i]<0.999]\n",
    "    return X_train_[colsToKeep],X_test_[colsToKeep],test_orig_processed[colsToKeep]"
   ]
  },
  {
   "cell_type": "code",
   "execution_count": 150,
   "metadata": {},
   "outputs": [],
   "source": [
    "def standardizeX(X_train_,X_test_,test_orig_processed):\n",
    "    names = X_train_.columns\n",
    "    scaler = preprocessing.StandardScaler()\n",
    "    X_train_ = scaler.fit_transform(X_train_)\n",
    "    X_test_ = scaler.transform(X_test_)\n",
    "    test_orig_processed = scaler.transform(test_orig_processed)\n",
    "\n",
    "    X_train_=pd.DataFrame(X_train_, columns=names)\n",
    "    X_test_=pd.DataFrame(X_test_, columns=names)\n",
    "    test_orig_processed=pd.DataFrame(test_orig_processed, columns=names)\n",
    "    return X_train_,X_test_,test_orig_processed"
   ]
  },
  {
   "cell_type": "code",
   "execution_count": 151,
   "metadata": {},
   "outputs": [],
   "source": [
    "def standardizeY(Y_train_,Y_test_):\n",
    "    avg = np.average(Y_train_)\n",
    "    std = np.std(Y_train_)\n",
    "    Y_train_=(Y_train_-avg)/std\n",
    "    Y_test_=(Y_test_-avg)/std\n",
    "\n",
    "    return Y_train_,Y_test_"
   ]
  },
  {
   "cell_type": "code",
   "execution_count": 152,
   "metadata": {},
   "outputs": [],
   "source": [
    "#nonCategoricalData=train.select_dtypes(exclude='object').copy()\n",
    "#nonCategoricalData, averageYears = processNonCat(nonCategoricalData,False, 0)\n",
    "#profile = ProfileReport(nonCategoricalData, title='Pandas Profiling Report', html={'style':{'full_width':True}})\n",
    "#profile.to_file(output_file=\"nonCategorical.html\")\n",
    "\n"
   ]
  },
  {
   "cell_type": "code",
   "execution_count": 153,
   "metadata": {},
   "outputs": [],
   "source": [
    "def printErrors(Y_train,Y_pred):\n",
    "    print('Root Mean Squared Log Error:', round(np.sqrt(metrics.mean_squared_error(np.log(Y_train), np.log(Y_pred))),3))\n",
    "    print('Mean % error:',round(np.sqrt(metrics.mean_squared_error((Y_train), (Y_pred)))/np.average((Y_pred))*100,2))"
   ]
  },
  {
   "cell_type": "code",
   "execution_count": 154,
   "metadata": {},
   "outputs": [],
   "source": [
    "def saveOutput(y_pred):\n",
    "    y_pred_df=pd.DataFrame()\n",
    "    y_pred_df[\"Id\"]=range(1461,1461+len(y_pred),1)\n",
    "    y_pred_df[\"SalePrice\"]=y_pred\n",
    "    file = \"/Users/shaan/Downloads/DataSet/my_submission.csv\"\n",
    "    y_pred_df.to_csv(file,index=False)\n",
    "    print(\"saved to file :\"+file)"
   ]
  },
  {
   "cell_type": "code",
   "execution_count": 155,
   "metadata": {},
   "outputs": [],
   "source": [
    "def residualPlot(pred,actual):\n",
    "    residual = pred - actual\n",
    "    sns.scatterplot(x=actual,y=residual)"
   ]
  },
  {
   "cell_type": "code",
   "execution_count": 156,
   "metadata": {},
   "outputs": [],
   "source": [
    "#model1\n",
    "def linear_reg(X_train_, X_test_, Y_train_, Y_test_,test_orig_processed, getOutputFile):\n",
    "    regressor = LinearRegression()  \n",
    "    regressor.fit(X_train_, Y_train_)\n",
    "    print(\"------Simple linear regression model---------\")\n",
    "    print(\"Train Errors-\")\n",
    "    Y_pred=regressor.predict(X_train_)\n",
    "    Y_pred=np.maximum(Y_pred,1)\n",
    "    printErrors(Y_train_,Y_pred)\n",
    "    print(\"Test Errors-\")\n",
    "    Y_pred=regressor.predict(X_test_)\n",
    "    Y_pred=np.maximum(Y_pred,1)\n",
    "    printErrors(Y_test_,Y_pred)\n",
    "    if(getOutputFile==True):\n",
    "        print(\"Saving output for upload\")\n",
    "        saveOutput(regressor.predict(test_orig_processed))\n",
    "    return regressor"
   ]
  },
  {
   "cell_type": "code",
   "execution_count": 157,
   "metadata": {},
   "outputs": [],
   "source": [
    "#model2\n",
    "#same with logarithmic Y\n",
    "def linear_reg_withlog(X_train_, X_test_, Y_train_, Y_test_,test_orig_processed, getOutputFile):\n",
    "    Y_train_exp=np.log(Y_train_)\n",
    "    Y_test_exp=np.log(Y_test_)\n",
    "    \n",
    "    regressor = LinearRegression()  \n",
    "    regressor.fit(X_train_, Y_train_exp)\n",
    "    print(\"------Simple linear regression model with log---------\")\n",
    "    print(\"Train Errors-\")\n",
    "    Y_pred=regressor.predict(X_train_)\n",
    "    Y_pred=np.exp(Y_pred)\n",
    "    printErrors(Y_train_,Y_pred)\n",
    "    print(\"Test Errors-\")\n",
    "    Y_pred=regressor.predict(X_test_)\n",
    "    Y_pred=np.exp(Y_pred)\n",
    "    printErrors(Y_test_,Y_pred)\n",
    "    if(getOutputFile==True):\n",
    "        print(\"Saving output for upload\")\n",
    "        saveOutput(np.exp(regressor.predict(test_orig_processed)))\n",
    "    return regressor"
   ]
  },
  {
   "cell_type": "code",
   "execution_count": 158,
   "metadata": {},
   "outputs": [],
   "source": [
    "#model3\n",
    "#same with logarithmic Y\n",
    "def ols_withlog(X_train_, X_test_, Y_train_, Y_test_,test_orig_processed, getOutputFile):\n",
    "    #X_train_,X_test_,test_orig_processed = remove_colsWithZeros(X_train_,X_test_,test_orig_processed)\n",
    "    X_train_,X_test_,test_orig_processed = remove_corr(X_train_,X_test_,test_orig_processed)\n",
    "    Y_train_exp=np.log(Y_train_)\n",
    "    Y_test_exp=np.log(Y_test_)\n",
    "    \n",
    "    regressor = LinearRegression()  \n",
    "    regressor = sm.OLS(Y_train_exp, X_train_).fit()\n",
    "    print(\"------OLS model with log---------\")\n",
    "    print(\"Train Errors-\")\n",
    "    Y_pred=regressor.predict(X_train_)\n",
    "    Y_pred=np.exp(Y_pred)\n",
    "    printErrors(Y_train_,Y_pred)\n",
    "    print(\"Test Errors-\")\n",
    "    Y_pred=regressor.predict(X_test_)\n",
    "    Y_pred=np.exp(Y_pred)\n",
    "    printErrors(Y_test_,Y_pred)\n",
    "    if(getOutputFile==True):\n",
    "        print(\"Saving output for upload\")\n",
    "        saveOutput(regressor.predict(test_orig_processed))\n",
    "    return regressor"
   ]
  },
  {
   "cell_type": "code",
   "execution_count": 159,
   "metadata": {},
   "outputs": [],
   "source": [
    "def removeYOutliers(X_train_,Y_train_):\n",
    "    avg=np.average(Y_train_)\n",
    "    std=np.std(Y_train_)\n",
    "    filterval=avg+6*std\n",
    "    orig_index=Y_train_[Y_train_.loc[:]<=filterval].index\n",
    "    indexes = np.array(orig_index)\n",
    "    Y_train_ =[y for y in Y_train_ if y <= filterval]\n",
    "    Y_train_=pd.Series(Y_train_,orig_index)\n",
    "    X_train_=X_train_.loc[indexes,:]\n",
    "    return X_train_,Y_train_"
   ]
  },
  {
   "cell_type": "code",
   "execution_count": 160,
   "metadata": {},
   "outputs": [],
   "source": [
    "def removeOutliersX(X_train_,Y_train_):\n",
    "    cols = ['LotArea', 'MasVnrArea', 'BsmtFinSF1', 'BsmtUnfSF', 'TotalBsmtSF', '1stFlrSF', '2ndFlrSF', 'GarageArea', 'WoodDeckSF', 'OpenPorchSF']\n",
    "    data=X_train_[cols]\n",
    "    avg=np.average(data)\n",
    "    std=np.std(data)\n",
    "    filterval=avg+4*std\n",
    "    indexes=[]\n",
    "    for i in range(len(cols)):\n",
    "        col=cols[i]\n",
    "        indexes=np.concatenate((indexes,data[data[col]<=filterval[i]].index.values))\n",
    "    Y_train_=Y_train_[indexes]\n",
    "    X_train_=X_train_.loc[indexes,:]\n",
    "    return X_train_,Y_train_"
   ]
  },
  {
   "cell_type": "code",
   "execution_count": 161,
   "metadata": {},
   "outputs": [],
   "source": [
    "#model4\n",
    "#same with logarithmic Y\n",
    "def ols_withscale(X_train_, X_test_, Y_train_, Y_test_,test_orig_processed, getOutputFile):\n",
    "    #X_train_,X_test_,test_orig_processed = remove_colsWithZeros(X_train_,X_test_,test_orig_processed)\n",
    "    #X_train_,X_test_,test_orig_processed = standardizeX(X_train_,X_test_,test_orig_processed)\n",
    "    #Y_train_, Y_test_ = standardizeY(Y_train_, Y_test_)\n",
    "    X_train_,X_test_,test_orig_processed = remove_corr(X_train_,X_test_,test_orig_processed)\n",
    "    \n",
    "    X_train_,Y_train_=removeYOutliers(X_train_,Y_train_)\n",
    "    X_train_,Y_train_=removeOutliersX(X_train_,Y_train_)\n",
    "    Y_train_exp=np.log(Y_train_)\n",
    "\n",
    "\n",
    "    regressor = LinearRegression()  \n",
    "    regressor = sm.OLS(Y_train_exp, X_train_).fit()\n",
    "    print(\"------OLS model outliers removed---------\")\n",
    "    print(\"Train Errors-\")\n",
    "    Y_pred=regressor.predict(X_train_)\n",
    "    Y_pred=np.exp(Y_pred)\n",
    "    printErrors(Y_train_,Y_pred)\n",
    "    print(\"Test Errors-\")\n",
    "    Y_pred=regressor.predict(X_test_)\n",
    "    Y_pred=np.exp(Y_pred)\n",
    "    printErrors(Y_test_,Y_pred)\n",
    "    if(getOutputFile==True):\n",
    "        print(\"Saving output for upload\")\n",
    "        saveOutput(np.exp(regressor.predict(test_orig_processed)))\n",
    "    return regressor"
   ]
  },
  {
   "cell_type": "code",
   "execution_count": 162,
   "metadata": {},
   "outputs": [],
   "source": [
    "#model5\n",
    "#same with logarithmic Y\n",
    "def rfmodel(X_train_, X_test_, Y_train_, Y_test_,test_orig_processed, getOutputFile):\n",
    "    #X_train_,X_test_,test_orig_processed = remove_colsWithZeros(X_train_,X_test_,test_orig_processed)\n",
    "    #X_train_,X_test_,test_orig_processed = standardizeX(X_train_,X_test_,test_orig_processed)\n",
    "    #Y_train_, Y_test_ = standardizeY(Y_train_, Y_test_)\n",
    "    X_train_,X_test_,test_orig_processed = remove_corr(X_train_,X_test_,test_orig_processed)\n",
    "    \n",
    "    #X_train_,Y_train_=removeYOutliers(X_train_,Y_train_)\n",
    "    Y_train_exp=np.log(Y_train_)\n",
    "    \n",
    "    rf = RandomForestRegressor(n_estimators = 1000,warm_start=True)\n",
    "    rf.fit(X_train_, Y_train_exp)\n",
    "    print(\"------random forest---------\")\n",
    "    print(\"Train Errors-\")\n",
    "    Y_pred=rf.predict(X_train_)\n",
    "    Y_pred=np.exp(Y_pred)\n",
    "    printErrors(Y_train_,Y_pred)\n",
    "    print(\"Test Errors-\")\n",
    "    Y_pred=rf.predict(X_test_)\n",
    "    Y_pred=np.exp(Y_pred)\n",
    "    printErrors(Y_test_,Y_pred)\n",
    "    if(getOutputFile==True):\n",
    "        print(\"Saving output for upload\")\n",
    "        saveOutput(np.exp(rf.predict(test_orig_processed)))\n",
    "    return rf"
   ]
  },
  {
   "cell_type": "code",
   "execution_count": 163,
   "metadata": {},
   "outputs": [],
   "source": [
    "#model6\n",
    "def lasso(X_train_, X_test_, Y_train_, Y_test_,test_orig_processed, getOutputFile):\n",
    "    #X_train_,X_test_,test_orig_processed = remove_colsWithZeros(X_train_,X_test_,test_orig_processed)\n",
    "    #X_train_,X_test_,test_orig_processed = standardizeX(X_train_,X_test_,test_orig_processed)\n",
    "    #Y_train_, Y_test_ = standardizeY(Y_train_, Y_test_)\n",
    "    #X_train_,X_test_,test_orig_processed = remove_corr(X_train_,X_test_,test_orig_processed)\n",
    "    \n",
    "    X_train_,Y_train_=removeYOutliers(X_train_,Y_train_)\n",
    "    Y_train_exp=np.log(Y_train_)\n",
    "    lasso=linear_model.ElasticNet( random_state=0,l1_ratio=2)\n",
    "    lasso.fit(X_train_, Y_train_exp)\n",
    "    print(\"------lasso---------\")\n",
    "    print(\"Train Errors-\")\n",
    "    Y_pred=lasso.predict(X_train_)\n",
    "    Y_pred=np.exp(Y_pred)\n",
    "    printErrors(Y_train_,Y_pred)\n",
    "    print(\"Test Errors-\")\n",
    "    Y_pred=lasso.predict(X_test_)\n",
    "    Y_pred=np.exp(Y_pred)\n",
    "    printErrors(Y_test_,Y_pred)\n",
    "    if(getOutputFile==True):\n",
    "        print(\"Saving output for upload\")\n",
    "        saveOutput(np.exp(lasso.predict(test_orig_processed)))\n",
    "    return lasso"
   ]
  },
  {
   "cell_type": "code",
   "execution_count": 164,
   "metadata": {},
   "outputs": [
    {
     "data": {
      "text/plain": [
       "numpy.ndarray"
      ]
     },
     "execution_count": 164,
     "metadata": {},
     "output_type": "execute_result"
    }
   ],
   "source": [
    "type((np.double(X_train_.values)))"
   ]
  },
  {
   "cell_type": "code",
   "execution_count": 216,
   "metadata": {},
   "outputs": [],
   "source": [
    "#model7\n",
    "def nnmodel(X_train_, X_test_, Y_train_, Y_test_,test_orig_processed, getOutputFile):\n",
    "    #X_train_,X_test_,test_orig_processed = remove_colsWithZeros(X_train_,X_test_,test_orig_processed)\n",
    "    #X_train_,X_test_,test_orig_processed = standardizeX(X_train_,X_test_,test_orig_processed)\n",
    "    #Y_train_, Y_test_ = standardizeY(Y_train_, Y_test_)\n",
    "    #X_train_,X_test_,test_orig_processed = remove_corr(X_train_,X_test_,test_orig_processed)\n",
    "    \n",
    "    X_train_,Y_train_=removeYOutliers(X_train_,Y_train_)\n",
    "    X_train_,Y_train_=removeOutliersX(X_train_,Y_train_)\n",
    "\n",
    "    Y_train_exp=np.log(Y_train_)\n",
    "    Y_train_exp = [[y] for y in Y_train_exp]\n",
    "    y_test=np.log(Y_test_)\n",
    "    y_test = [[y] for y in y_test]\n",
    "    \n",
    "    #dimensions\n",
    "    batch,dim,hidden,out = int(X_train_.shape[0]),int(X_train_.shape[1]),int(X_train_.shape[1]/10),1\n",
    "    hidden=256\n",
    "    #create input output tensors\n",
    "    x = torch.tensor(X_train_.values)\n",
    "    y = torch.tensor(Y_train_exp)\n",
    "    y_test = torch.tensor(y_test)\n",
    "    lr = 1e-4\n",
    "    epochs = 8901\n",
    "    \n",
    "    model = torch.nn.Sequential(\n",
    "        torch.nn.Linear(dim, hidden),\n",
    "        torch.nn.ReLU(),\n",
    "        torch.nn.Linear(hidden, math.floor(hidden/2)),\n",
    "        torch.nn.ReLU(),\n",
    "        torch.nn.Linear(math.floor(hidden/2), hidden),\n",
    "        torch.nn.ReLU(),\n",
    "        torch.nn.Linear(hidden,out),\n",
    "    )\n",
    "    model=model.float()\n",
    "    loss_fn = torch.nn.MSELoss(reduction='sum')\n",
    "    optimizer = torch.optim.Adam(model.parameters(), lr=lr)\n",
    "    train_loss =[]\n",
    "    test_loss = []\n",
    "    for i in range(epochs):\n",
    "        pred=model(x.float())\n",
    "        loss = loss_fn(pred,y.float())\n",
    "        if i%1000==0:\n",
    "            print(i,loss.item())\n",
    "            train_loss.append([i,loss.item()])\n",
    "            test_loss.append([i,loss_fn(model(torch.tensor(X_test_.values).float()),y_test.float()).item()])\n",
    "    \n",
    "        #reset gradients\n",
    "        optimizer.zero_grad()\n",
    "        loss.backward()\n",
    "        optimizer.step()\n",
    "\n",
    "    \n",
    "    print(\"------neural net 1hidden---------\")\n",
    "    print(\"Train Errors-\")\n",
    "    predy=model(x.float())\n",
    "    Y_pred=predy.detach().numpy()    \n",
    "    Y_pred=np.exp(Y_pred)\n",
    "    printErrors(Y_train_,Y_pred)\n",
    "    #sns.scatterplot(pred-y.detach().numpy(),y.detach().numpy())\n",
    "    print(\"Test Errors-\")\n",
    "    Y_pred=model(torch.tensor(X_test_.values).float())\n",
    "    Y_pred=Y_pred.detach().numpy()    \n",
    "    Y_pred=np.exp(Y_pred)\n",
    "    printErrors(Y_test_,Y_pred)\n",
    "    if(getOutputFile==True):\n",
    "        print(\"Saving output for upload\")\n",
    "        pred = model(torch.tensor(test_orig_processed.values).float())\n",
    "        pred = pred.detach().numpy()\n",
    "        pred=np.exp(pred)\n",
    "        saveOutput(pred)\n",
    "    return model,train_loss, test_loss,predy,y"
   ]
  },
  {
   "cell_type": "code",
   "execution_count": 217,
   "metadata": {
    "scrolled": false
   },
   "outputs": [
    {
     "name": "stdout",
     "output_type": "stream",
     "text": [
      "------Simple linear regression model---------\n",
      "Train Errors-\n",
      "Root Mean Squared Log Error: 0.121\n",
      "Mean % error: 11.59\n",
      "Test Errors-\n",
      "Root Mean Squared Log Error: 0.212\n",
      "Mean % error: 20.78\n",
      "------Simple linear regression model with log---------\n",
      "Train Errors-\n",
      "Root Mean Squared Log Error: 0.09\n",
      "Mean % error: 9.65\n",
      "Test Errors-\n",
      "Root Mean Squared Log Error: 0.133\n",
      "Mean % error: 14.53\n",
      "------OLS model with log---------\n",
      "Train Errors-\n",
      "Root Mean Squared Log Error: 0.09\n",
      "Mean % error: 9.64\n",
      "Test Errors-\n",
      "Root Mean Squared Log Error: 0.134\n",
      "Mean % error: 14.51\n",
      "------OLS model outliers removed---------\n",
      "Train Errors-\n",
      "Root Mean Squared Log Error: 0.089\n",
      "Mean % error: 9.54\n",
      "Test Errors-\n",
      "Root Mean Squared Log Error: 0.134\n",
      "Mean % error: 14.44\n",
      "0 2130489.5\n",
      "1000 451.9224853515625\n",
      "2000 131.13754272460938\n",
      "3000 91.15986633300781\n",
      "4000 78.5321273803711\n",
      "5000 844.9556884765625\n",
      "6000 156.76564025878906\n",
      "7000 126.53072357177734\n",
      "8000 33.12885665893555\n",
      "------neural net 1hidden---------\n",
      "Train Errors-\n",
      "Root Mean Squared Log Error: 0.047\n",
      "Mean % error: 5.91\n",
      "Test Errors-\n",
      "Root Mean Squared Log Error: 0.228\n",
      "Mean % error: 24.2\n",
      "Saving output for upload\n",
      "saved to file :/Users/shaan/Downloads/DataSet/my_submission.csv\n"
     ]
    }
   ],
   "source": [
    "linReg = linear_reg(X_train_, X_test_, Y_train_, Y_test_,test_orig_processed, False)\n",
    "linRegLog = linear_reg_withlog(X_train_, X_test_, Y_train_, Y_test_,test_orig_processed, False)\n",
    "olsLog = ols_withlog(X_train_, X_test_, Y_train_, Y_test_,test_orig_processed, False)\n",
    "olsLog1 = ols_withscale(X_train_, X_test_, Y_train_, Y_test_,test_orig_processed, False)\n",
    "#rf = rfmodel(X_train_, X_test_, Y_train_, Y_test_,test_orig_processed, False)\n",
    "#lasso = lasso(X_train_, X_test_, Y_train_, Y_test_,test_orig_processed, True)\n",
    "nnmod, train_loss, test_loss, pred,y = nnmodel(X_train_, X_test_, Y_train_, Y_test_,test_orig_processed, True)"
   ]
  },
  {
   "cell_type": "code",
   "execution_count": 218,
   "metadata": {},
   "outputs": [
    {
     "data": {
      "text/plain": [
       "<matplotlib.axes._subplots.AxesSubplot at 0x14b324630>"
      ]
     },
     "execution_count": 218,
     "metadata": {},
     "output_type": "execute_result"
    },
    {
     "data": {
      "image/png": "[encoded data removed]",
      "text/plain": [
       "<Figure size 432x288 with 1 Axes>"
      ]
     },
     "metadata": {
      "needs_background": "light"
     },
     "output_type": "display_data"
    }
   ],
   "source": [
    "pred1=pred.detach().numpy()\n",
    "pred1=[y[0] for y in pred1]\n",
    "y1=y.detach().numpy()\n",
    "y1=[y[0] for y in y1]\n",
    "diff=[]\n",
    "for i in range(len(pred1)):\n",
    "    diff.append(pred1[i]-y1[i])\n",
    "sns.scatterplot(y1,diff)"
   ]
  },
  {
   "cell_type": "code",
   "execution_count": 184,
   "metadata": {
    "scrolled": true
   },
   "outputs": [
    {
     "data": {
      "text/plain": [
       "<matplotlib.axes._subplots.AxesSubplot at 0x14b007f60>"
      ]
     },
     "execution_count": 184,
     "metadata": {},
     "output_type": "execute_result"
    },
    {
     "data": {
      "image/png": "[encoded data removed]",
      "text/plain": [
       "<Figure size 432x288 with 1 Axes>"
      ]
     },
     "metadata": {
      "needs_background": "light"
     },
     "output_type": "display_data"
    }
   ],
   "source": [
    "#\n",
    "train_loss.pop(0)\n",
    "a=pd.DataFrame(test_loss)\n",
    "b=pd.DataFrame(train_loss)\n",
    "#a.columns\n",
    "sns.scatterplot(b[0],b[1])\n"
   ]
  },
  {
   "cell_type": "code",
   "execution_count": 185,
   "metadata": {},
   "outputs": [
    {
     "data": {
      "text/plain": [
       "<matplotlib.axes._subplots.AxesSubplot at 0x14b24a0b8>"
      ]
     },
     "execution_count": 185,
     "metadata": {},
     "output_type": "execute_result"
    },
    {
     "data": {
      "image/png": "[encoded data removed]",
      "text/plain": [
       "<Figure size 432x288 with 1 Axes>"
      ]
     },
     "metadata": {
      "needs_background": "light"
     },
     "output_type": "display_data"
    }
   ],
   "source": [
    "#test_loss.pop(0)\n",
    "a=pd.DataFrame(test_loss)\n",
    "sns.scatterplot(a[0],a[1])"
   ]
  },
  {
   "cell_type": "code",
   "execution_count": 176,
   "metadata": {
    "scrolled": true
   },
   "outputs": [
    {
     "data": {
      "image/png": "[encoded data removed]",
      "text/plain": [
       "<Figure size 432x288 with 1 Axes>"
      ]
     },
     "metadata": {
      "needs_background": "light"
     },
     "output_type": "display_data"
    }
   ],
   "source": [
    "#plot residuals\n",
    "#residualPlot(linReg.predict(X_train_),Y_train_)\n",
    "#residualPlot(np.exp(linRegLog.predict(X_train_)),Y_train_)\n",
    "\n",
    "#X_train_1,X_test_1,test_orig_processed1 = remove_corr(X_train_,X_test_,test_orig_processed)\n",
    "#X_train_2,Y_train_2=removeYOutliers(X_train_1,Y_train_)\n",
    "#X_train_3,Y_train_3=removeOutliersX(X_train_2,Y_train_2)\n",
    "#residualPlot(olsLog1.predict(X_train_3),np.log(Y_train_3))\n",
    "#residualPlot(rf.predict(X_train_2),np.log(Y_train_2))"
   ]
  },
  {
   "cell_type": "code",
   "execution_count": 143,
   "metadata": {},
   "outputs": [
    {
     "data": {
      "text/plain": [
       "<matplotlib.axes._subplots.AxesSubplot at 0x11b48ceb8>"
      ]
     },
     "execution_count": 143,
     "metadata": {},
     "output_type": "execute_result"
    },
    {
     "data": {
      "image/png": "[encoded data removed]",
      "text/plain": [
       "<Figure size 432x288 with 1 Axes>"
      ]
     },
     "metadata": {
      "needs_background": "light"
     },
     "output_type": "display_data"
    }
   ],
   "source": [
    "#boxplot\n",
    "sns.boxplot(x=Y_train)\n"
   ]
  },
  {
   "cell_type": "code",
   "execution_count": null,
   "metadata": {
    "scrolled": true
   },
   "outputs": [],
   "source": [
    "olsLog.summary()"
   ]
  },
  {
   "cell_type": "code",
   "execution_count": null,
   "metadata": {},
   "outputs": [],
   "source": [
    "olsLog.pvalues>0.05"
   ]
  },
  {
   "cell_type": "code",
   "execution_count": 258,
   "metadata": {
    "scrolled": false
   },
   "outputs": [],
   "source": [
    "avg=np.average(Y_train_)\n",
    "std=np.std(Y_train_)\n",
    "indexes = np.array((np.where(Y_train_ > avg+4*std)))[0]\n",
    "a =[y for y in Y_train_ if y > avg+4*std]\n",
    "a=pd.Series(a)\n",
    "b=X_train_.loc[indexes,:]\n"
   ]
  },
  {
   "cell_type": "code",
   "execution_count": 299,
   "metadata": {},
   "outputs": [
    {
     "name": "stdout",
     "output_type": "stream",
     "text": [
      "Int64Index([ 728,  846,  360,    4,  678,  558,   34, 1025,  549, 1105,\n",
      "            ...\n",
      "            1094,  599,  277, 1033, 1383,  763,  835, 1216,  559,  684],\n",
      "           dtype='int64', length=1430)\n",
      "Int64Index([], dtype='int64')\n"
     ]
    }
   ],
   "source": [
    "y=np.log(Y_train_)\n",
    "avg=np.average(y)\n",
    "std=np.std(y)\n",
    "orig_index=y[y.loc[:]<=avg+4*std].index\n",
    "indexes = np.array(orig_index)\n",
    "a =[y for y in y if y <= avg+4*std]\n",
    "a=pd.Series(a,orig_index)\n",
    "b=X_train_.loc[indexes,:]\n",
    "print(b.index)\n",
    "a.index==b.index\n",
    "print(y[y.loc[:]>avg+4*std].index)"
   ]
  },
  {
   "cell_type": "code",
   "execution_count": null,
   "metadata": {},
   "outputs": [],
   "source": []
  }
 ],
 "metadata": {
  "kernelspec": {
   "display_name": "Python 3",
   "language": "python",
   "name": "python3"
  },
  "language_info": {
   "codemirror_mode": {
    "name": "ipython",
    "version": 3
   },
   "file_extension": ".py",
   "mimetype": "text/x-python",
   "name": "python",
   "nbconvert_exporter": "python",
   "pygments_lexer": "ipython3",
   "version": "3.7.3"
  }
 },
 "nbformat": 4,
 "nbformat_minor": 2
}
